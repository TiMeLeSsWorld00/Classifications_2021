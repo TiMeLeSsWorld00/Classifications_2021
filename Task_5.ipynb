{
 "cells": [
  {
   "cell_type": "markdown",
   "metadata": {},
   "source": [
    "https://t.me/Sputnik_results"
   ]
  },
  {
   "cell_type": "code",
   "execution_count": 1,
   "metadata": {},
   "outputs": [],
   "source": [
    "    \n",
    "import nest_asyncio\n",
    "nest_asyncio.apply()"
   ]
  },
  {
   "cell_type": "markdown",
   "metadata": {},
   "source": [
    "## Часть 1 "
   ]
  },
  {
   "cell_type": "code",
   "execution_count": 2,
   "metadata": {},
   "outputs": [],
   "source": [
    "import telethon\n",
    "import pandas as pd\n",
    "import matplotlib.pyplot as plt\n",
    "import re"
   ]
  },
  {
   "cell_type": "code",
   "execution_count": 3,
   "metadata": {},
   "outputs": [
    {
     "name": "stderr",
     "output_type": "stream",
     "text": [
      "c:\\Users\\Elizaveta\\text_2\\venv\\lib\\site-packages\\ipykernel_launcher.py:28: RuntimeWarning: coroutine 'AuthMethods._start' was never awaited\n",
      "RuntimeWarning: Enable tracemalloc to get the object allocation traceback\n"
     ]
    },
    {
     "name": "stdout",
     "output_type": "stream",
     "text": [
      "Signed in successfully as Elizaveta\n"
     ]
    }
   ],
   "source": [
    "# скрипт для скачивания сообщений из Telegram, создает файл channel_messages.json\n",
    "\n",
    "import configparser\n",
    "import json\n",
    "\n",
    "from telethon.sync import TelegramClient\n",
    "from telethon import connection\n",
    "\n",
    "# для корректного переноса времени сообщений в json\n",
    "from datetime import date, datetime\n",
    "\n",
    "# классы для работы с каналами\n",
    "from telethon.tl.functions.channels import GetParticipantsRequest\n",
    "from telethon.tl.types import ChannelParticipantsSearch\n",
    "\n",
    "# класс для работы с сообщениями\n",
    "from telethon.tl.functions.messages import GetHistoryRequest\n",
    "\n",
    "# Присваиваем значения внутренним переменным\n",
    "api_id = 11714810\n",
    "api_hash = '606543eec30b6153863d9c098e8166f1'\n",
    "username = 'TiMeLeSs05'\n",
    "\n",
    "client = TelegramClient(username, api_id, api_hash)\n",
    "client.start()\n",
    "\n",
    "\n",
    "async def dump_all_participants(channel):\n",
    "\t\"\"\"Записывает json-файл с информацией о всех участниках канала/чата\"\"\"\n",
    "\toffset_user = 0    # номер участника, с которого начинается считывание\n",
    "\tlimit_user = 100   # максимальное число записей, передаваемых за один раз\n",
    "\n",
    "\tall_participants = []   # список всех участников канала\n",
    "\tfilter_user = ChannelParticipantsSearch('')\n",
    "\n",
    "\twhile True:\n",
    "\t\tparticipants = await client(GetParticipantsRequest(channel,\n",
    "\t\t\tfilter_user, offset_user, limit_user, hash=0))\n",
    "\t\tif not participants.users:\n",
    "\t\t\tbreak\n",
    "\t\tall_participants.extend(participants.users)\n",
    "\t\toffset_user += len(participants.users)\n",
    "\n",
    "\tall_users_details = []   # список словарей с интересующими параметрами участников канала\n",
    "\n",
    "\tfor participant in all_participants:\n",
    "\t\tall_users_details.append({\"id\": participant.id,\n",
    "\t\t\t\"first_name\": participant.first_name,\n",
    "\t\t\t\"last_name\": participant.last_name,\n",
    "\t\t\t\"user\": participant.username,\n",
    "\t\t\t\"phone\": participant.phone,\n",
    "\t\t\t\"is_bot\": participant.bot})\n",
    "\n",
    "\twith open('channel_users.json', 'w', encoding='utf8') as outfile:\n",
    "\t\tjson.dump(all_users_details, outfile, ensure_ascii=False)\n",
    "\n",
    "\n",
    "async def dump_all_messages(channel):\n",
    "\t\"\"\"Записывает json-файл с информацией о всех сообщениях канала/чата\"\"\"\n",
    "\toffset_msg = 0    # номер записи, с которой начинается считывание\n",
    "\tlimit_msg = 100   # максимальное число записей, передаваемых за один раз\n",
    "\n",
    "\tall_messages = []   # список всех сообщений\n",
    "\ttotal_messages = 0\n",
    "\ttotal_count_limit = 0  # поменяйте это значение, если вам нужны не все сообщения\n",
    "\n",
    "\tclass DateTimeEncoder(json.JSONEncoder):\n",
    "\t\t'''Класс для сериализации записи дат в JSON'''\n",
    "\t\tdef default(self, o):\n",
    "\t\t\tif isinstance(o, datetime):\n",
    "\t\t\t\treturn o.isoformat()\n",
    "\t\t\tif isinstance(o, bytes):\n",
    "\t\t\t\treturn list(o)\n",
    "\t\t\treturn json.JSONEncoder.default(self, o)\n",
    "\n",
    "\twhile True:\n",
    "\t\thistory = await client(GetHistoryRequest(\n",
    "\t\t\tpeer=channel,\n",
    "\t\t\toffset_id=offset_msg,\n",
    "\t\t\toffset_date=None, add_offset=0,\n",
    "\t\t\tlimit=limit_msg, max_id=0, min_id=0,\n",
    "\t\t\thash=0))\n",
    "\t\tif not history.messages:\n",
    "\t\t\tbreak\n",
    "\t\tmessages = history.messages\n",
    "\t\tfor message in messages:\n",
    "\t\t\tall_messages.append(message.to_dict())\n",
    "\t\toffset_msg = messages[len(messages) - 1].id\n",
    "\t\ttotal_messages = len(all_messages)\n",
    "\t\tif total_count_limit != 0 and total_messages >= total_count_limit:\n",
    "\t\t\tbreak\n",
    "\n",
    "\twith open('channel_messages.json', 'w', encoding='utf8') as outfile:\n",
    "\t\t json.dump(all_messages, outfile, ensure_ascii=False, cls=DateTimeEncoder)\n",
    "\n",
    "\n",
    "async def main():\n",
    "\turl = input(\"Введите ссылку на канал или чат: \")\n",
    "\tchannel = await client.get_entity(url)\n",
    "\t#await dump_all_participants(channel)\n",
    "\tawait dump_all_messages(channel)\n",
    "\n",
    "\n",
    "async with client:\n",
    "\tclient.loop.run_until_complete(main())\n",
    "\t#client.close()\n",
    "\t#client.disconnect()"
   ]
  },
  {
   "cell_type": "code",
   "execution_count": 4,
   "metadata": {},
   "outputs": [],
   "source": [
    "mess_df = pd.read_json('channel_messages.json', encoding='utf8')\n",
    "#print(mess_df.columns)"
   ]
  },
  {
   "cell_type": "code",
   "execution_count": 5,
   "metadata": {},
   "outputs": [
    {
     "name": "stderr",
     "output_type": "stream",
     "text": [
      "No handles with labels found to put in legend.\n"
     ]
    },
    {
     "data": {
      "image/png": "[encoded data removed]",
      "text/plain": [
       "<Figure size 432x288 with 1 Axes>"
      ]
     },
     "metadata": {
      "needs_background": "light"
     },
     "output_type": "display_data"
    }
   ],
   "source": [
    "# Откройте с помощью Pandas или Arrow, постройте график числа сообщений в зависимости от даты.\n",
    "mess_df['date'] = pd.to_datetime(mess_df['date'])\n",
    "mess_df['only_date'] = mess_df['date'].dt.date\n",
    "df_1 = mess_df.groupby('only_date')['message'].count()\n",
    "plt.plot(df_1)\n",
    "plt.legend(title = 'graph of messages by date')\n",
    "plt.show()"
   ]
  },
  {
   "cell_type": "markdown",
   "metadata": {},
   "source": [
    "Видно, что всплески вакцинации были зимой и летом(по данным из телеграмм)"
   ]
  },
  {
   "cell_type": "code",
   "execution_count": null,
   "metadata": {},
   "outputs": [],
   "source": []
  },
  {
   "cell_type": "code",
   "execution_count": 6,
   "metadata": {},
   "outputs": [
    {
     "name": "stderr",
     "output_type": "stream",
     "text": [
      "No handles with labels found to put in legend.\n"
     ]
    },
    {
     "data": {
      "image/png": "[encoded data removed]",
      "text/plain": [
       "<Figure size 432x288 with 1 Axes>"
      ]
     },
     "metadata": {
      "needs_background": "light"
     },
     "output_type": "display_data"
    }
   ],
   "source": [
    "## Часть 2\n",
    "# 1.\n",
    "# Функция для извлечения пола участника из сообщений\n",
    "def get_sex(text):\n",
    "    if pd.notna(text):\n",
    "        pattern = re.compile(r'\\b[МмЖж]..?\\d\\d|\\b[МмЖж]\\d\\d|\\b[Жж]ен.+\\d\\d\\B|\\b[Мм]уж.+\\d\\d\\B|[Жж]енщина|[Мм]ужчина')\n",
    "        listsexs = pattern.findall(text)\n",
    "        list_to_write = [i[0].lower() for i in listsexs]\n",
    "        return list_to_write\n",
    "    return []\n",
    "\n",
    "mess_df['sex'] = mess_df.message.apply(lambda mess: get_sex(mess))\n",
    "mess_df['sex'].explode().hist()\n",
    "plt.legend(title = 'hist of gender distribution')\n",
    "plt.show()"
   ]
  },
  {
   "cell_type": "markdown",
   "metadata": {},
   "source": [
    "Вывод: женщин привилось больше(по данным из телеграмм)"
   ]
  },
  {
   "cell_type": "code",
   "execution_count": null,
   "metadata": {},
   "outputs": [],
   "source": []
  },
  {
   "cell_type": "code",
   "execution_count": 7,
   "metadata": {},
   "outputs": [
    {
     "name": "stderr",
     "output_type": "stream",
     "text": [
      "No handles with labels found to put in legend.\n"
     ]
    },
    {
     "data": {
      "image/png": "[encoded data removed]",
      "text/plain": [
       "<Figure size 432x288 with 1 Axes>"
      ]
     },
     "metadata": {
      "needs_background": "light"
     },
     "output_type": "display_data"
    }
   ],
   "source": [
    "# Функция для извлечения возраста участника из сообщений\n",
    "def get_age(text):\n",
    "    if pd.notna(text):\n",
    "        pattern = re.compile(r'\\b[МмЖж]..?\\d\\d|\\b[МмЖж]\\d\\d|\\b\\d\\d\\sгода?|\\b\\d\\d\\sлет')\n",
    "        listage = pattern.findall(text)\n",
    "        list_to_write = []\n",
    "        for i in listage:\n",
    "            if i[-2:].isalpha():\n",
    "                list_to_write.append(int(i[:2]))\n",
    "            else:\n",
    "                list_to_write.append(int(i[-2:]))\n",
    "        return list_to_write\n",
    "    return None\n",
    "\n",
    "mess_df['age'] = mess_df.message.apply(lambda mess: get_age(mess))\n",
    "df_temp = mess_df['age'].explode().sort_values()\n",
    "df_temp[df_temp >= 18].hist()\n",
    "plt.legend(title = 'hist of age distribution')\n",
    "plt.show()"
   ]
  },
  {
   "cell_type": "markdown",
   "metadata": {},
   "source": [
    "Вывод: людей среднего возраста(25-35 лет) привилось больше всего"
   ]
  },
  {
   "cell_type": "code",
   "execution_count": null,
   "metadata": {},
   "outputs": [],
   "source": []
  },
  {
   "cell_type": "code",
   "execution_count": 9,
   "metadata": {},
   "outputs": [
    {
     "data": {
      "image/png": "[encoded data removed]",
      "text/plain": [
       "<Figure size 432x288 with 1 Axes>"
      ]
     },
     "metadata": {
      "needs_background": "light"
     },
     "output_type": "display_data"
    }
   ],
   "source": [
    "# 2. Зависимость повышения температуры от возраста людей\n",
    "def get_temp(text):\n",
    "    if pd.notna(text):\n",
    "        sumtemp = 0\n",
    "        pattern = re.compile(r'3\\d[.,]\\d')\n",
    "        listtemp = pattern.findall(text)\n",
    "        if len(listtemp) != 0:\n",
    "            for i in listtemp:\n",
    "                if i[2] == ',':\n",
    "                    i = ('.').join(i.split(','))\n",
    "                sumtemp += float(i)\n",
    "            mean_temp = sumtemp / len(listtemp)\n",
    "        else:\n",
    "            return None\n",
    "\n",
    "        return mean_temp\n",
    "    return None\n",
    "\n",
    "mess_df['temperature'] = mess_df.message.apply(lambda x: get_temp(x))\n",
    "mess_df = mess_df.explode('age')\n",
    "dff = mess_df[(mess_df.temperature >= 35) & (mess_df.age >= 18)][['temperature', 'age']]\n",
    "dff.boxplot(column='temperature', by='age', showfliers=False)\n",
    "plt.show()"
   ]
  },
  {
   "cell_type": "markdown",
   "metadata": {},
   "source": [
    "Вывод: медианная температура у людей в среднем у всех до 37.5(что видно по boxplot)"
   ]
  },
  {
   "cell_type": "code",
   "execution_count": null,
   "metadata": {},
   "outputs": [],
   "source": []
  }
 ],
 "metadata": {
  "interpreter": {
   "hash": "09b9f67fc1f2abf2f5bd5dff66639fd588802dc7ef9532cd506a850aae19ce83"
  },
  "kernelspec": {
   "display_name": "Python 3.7.6 64-bit ('venv': venv)",
   "language": "python",
   "name": "python3"
  },
  "language_info": {
   "codemirror_mode": {
    "name": "ipython",
    "version": 3
   },
   "file_extension": ".py",
   "mimetype": "text/x-python",
   "name": "python",
   "nbconvert_exporter": "python",
   "pygments_lexer": "ipython3",
   "version": "3.7.6"
  },
  "orig_nbformat": 4
 },
 "nbformat": 4,
 "nbformat_minor": 2
}
