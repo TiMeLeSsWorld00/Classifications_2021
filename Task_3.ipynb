{
 "cells": [
  {
   "cell_type": "code",
   "execution_count": 174,
   "metadata": {},
   "outputs": [],
   "source": [
    "import pandas as pd\n",
    "import matplotlib.pyplot as plt\n",
    "import numpy as np"
   ]
  },
  {
   "cell_type": "markdown",
   "metadata": {},
   "source": [
    "В файле `data/weather.csv` находит архив погоды в г. Санкт-Петербург с 1 января 2008 года по 31 декабря 2016 года. Файл состоит из двух столбцов - дата (**Day**) и средняя дневная температура в этот день (**t**). Прочитать данные в `pandas` можно с помощью кода:"
   ]
  },
  {
   "cell_type": "code",
   "execution_count": 202,
   "metadata": {},
   "outputs": [],
   "source": [
    "df = pd.read_csv('../data/weather.csv', encoding='utf-8', index_col=False, parse_dates=[0])"
   ]
  },
  {
   "cell_type": "code",
   "execution_count": 203,
   "metadata": {},
   "outputs": [
    {
     "data": {
      "text/html": [
       "<div>\n",
       "<style scoped>\n",
       "    .dataframe tbody tr th:only-of-type {\n",
       "        vertical-align: middle;\n",
       "    }\n",
       "\n",
       "    .dataframe tbody tr th {\n",
       "        vertical-align: top;\n",
       "    }\n",
       "\n",
       "    .dataframe thead th {\n",
       "        text-align: right;\n",
       "    }\n",
       "</style>\n",
       "<table border=\"1\" class=\"dataframe\">\n",
       "  <thead>\n",
       "    <tr style=\"text-align: right;\">\n",
       "      <th></th>\n",
       "      <th>Day</th>\n",
       "      <th>t</th>\n",
       "    </tr>\n",
       "  </thead>\n",
       "  <tbody>\n",
       "    <tr>\n",
       "      <th>3280</th>\n",
       "      <td>2016-12-27</td>\n",
       "      <td>1</td>\n",
       "    </tr>\n",
       "    <tr>\n",
       "      <th>3281</th>\n",
       "      <td>2016-12-28</td>\n",
       "      <td>-3</td>\n",
       "    </tr>\n",
       "    <tr>\n",
       "      <th>3282</th>\n",
       "      <td>2016-12-29</td>\n",
       "      <td>0</td>\n",
       "    </tr>\n",
       "    <tr>\n",
       "      <th>3283</th>\n",
       "      <td>2016-12-30</td>\n",
       "      <td>3</td>\n",
       "    </tr>\n",
       "    <tr>\n",
       "      <th>3284</th>\n",
       "      <td>2016-12-31</td>\n",
       "      <td>4</td>\n",
       "    </tr>\n",
       "  </tbody>\n",
       "</table>\n",
       "</div>"
      ],
      "text/plain": [
       "            Day  t\n",
       "3280 2016-12-27  1\n",
       "3281 2016-12-28 -3\n",
       "3282 2016-12-29  0\n",
       "3283 2016-12-30  3\n",
       "3284 2016-12-31  4"
      ]
     },
     "execution_count": 203,
     "metadata": {},
     "output_type": "execute_result"
    }
   ],
   "source": [
    "df.tail()\n"
   ]
  },
  {
   "cell_type": "markdown",
   "metadata": {},
   "source": [
    "С помощью `Pandas` решите следующие задачи"
   ]
  },
  {
   "cell_type": "markdown",
   "metadata": {},
   "source": [
    "**1.** Определите самый холодный год, в котором средняя температура была минимальная и самый теплый год. "
   ]
  },
  {
   "cell_type": "code",
   "execution_count": 99,
   "metadata": {},
   "outputs": [
    {
     "name": "stdout",
     "output_type": "stream",
     "text": [
      "2012  -  2015\n"
     ]
    }
   ],
   "source": [
    "# ваш код\n",
    "max_t = -999999\n",
    "min_t = 999999\n",
    "for i in range(2008, 2017):\n",
    "    s = df[df['Day'].dt.year == i]['t'].sum()\n",
    "    if int(s) <= min_t:\n",
    "        cold_year = i\n",
    "        min_t = int(s)\n",
    "    if int(s) >= max_t:\n",
    "        warm_year = i\n",
    "        max_t = int(s)\n",
    "    \n",
    "\n",
    "\n",
    "print(cold_year,' - ',  warm_year)"
   ]
  },
  {
   "cell_type": "code",
   "execution_count": 153,
   "metadata": {},
   "outputs": [
    {
     "name": "stdout",
     "output_type": "stream",
     "text": [
      "         t\n",
      "Day       \n",
      "2012  2548\n",
      "         t\n",
      "Day       \n",
      "2015  3314\n"
     ]
    }
   ],
   "source": [
    "#2 вариант без цикла\n",
    "s = df.groupby(df['Day'].dt.year).sum().sort_values(by='t', ascending=False)\n",
    "cold_year = s[-1:]\n",
    "warm_year = s[0:1]\n",
    "print(cold_year)\n",
    "print(warm_year)"
   ]
  },
  {
   "cell_type": "markdown",
   "metadata": {},
   "source": [
    "**2.** Определите год, где в январе было наибольшее число дней с положительной температурой ($\\text{t} \\ge 0$)."
   ]
  },
  {
   "cell_type": "code",
   "execution_count": 109,
   "metadata": {},
   "outputs": [
    {
     "name": "stdout",
     "output_type": "stream",
     "text": [
      "2008\n"
     ]
    }
   ],
   "source": [
    "# ваш код\n",
    "max_days = 0\n",
    "for i in range(2008, 2017):\n",
    "    s = df[(df['Day'].dt.year == i)&(df['Day'].dt.month == 1)&(df['t']>=0)]['t'].count()\n",
    "    if int(s) >= max_days:\n",
    "        max_days = s\n",
    "        max_year = i\n",
    "print(max_year)\n",
    "\n"
   ]
  },
  {
   "cell_type": "code",
   "execution_count": 254,
   "metadata": {},
   "outputs": [
    {
     "name": "stdout",
     "output_type": "stream",
     "text": [
      "Day\n",
      "2008.0    19\n",
      "Name: Day, dtype: int64\n"
     ]
    }
   ],
   "source": [
    "#2 вариант без цикла\n",
    "s = df.groupby(df[(df['Day'].dt.month == 1)&(df['t']>=0)]['Day'].dt.year)['Day'].count().sort_values(ascending=False)\n",
    "max_year = s.iloc[0:1]\n",
    "print(max_year)"
   ]
  },
  {
   "cell_type": "markdown",
   "metadata": {},
   "source": [
    "**3.** В каком году было самое холодное лето (по средней температуре)"
   ]
  },
  {
   "cell_type": "code",
   "execution_count": 110,
   "metadata": {},
   "outputs": [
    {
     "name": "stdout",
     "output_type": "stream",
     "text": [
      "2008\n"
     ]
    }
   ],
   "source": [
    "# ваш код\n",
    "min_t = 999999\n",
    "for i in range(2008, 2017):\n",
    "    s = df[(df['Day'].dt.year == i) & (df['Day'].dt.month <= 8) & (df['Day'].dt.month >= 6)]['t'].sum()\n",
    "    if int(s) <= min_t:\n",
    "        cold_summer = i\n",
    "        min_t = int(s)\n",
    "        \n",
    "print(cold_summer)"
   ]
  },
  {
   "cell_type": "code",
   "execution_count": 246,
   "metadata": {},
   "outputs": [
    {
     "name": "stdout",
     "output_type": "stream",
     "text": [
      "           t\n",
      "Day         \n",
      "2008.0  1667\n"
     ]
    }
   ],
   "source": [
    "#2 вариант без цикла\n",
    "s = df.groupby(df[(df['Day'].dt.month <= 8)&(df['Day'].dt.month >= 6)]['Day'].dt.year).sum().sort_values(by='t', ascending=True)\n",
    "cold_summer = s.iloc[0:1]\n",
    "print(cold_summer)\n"
   ]
  },
  {
   "cell_type": "markdown",
   "metadata": {},
   "source": [
    "**4.** Найдите день с самой большим перепадом температуры, если сравнивать со следующим днем. "
   ]
  },
  {
   "cell_type": "code",
   "execution_count": 211,
   "metadata": {},
   "outputs": [
    {
     "data": {
      "text/plain": [
       "Timestamp('2014-05-26 00:00:00')"
      ]
     },
     "execution_count": 211,
     "metadata": {},
     "output_type": "execute_result"
    }
   ],
   "source": [
    "# ваш код\n",
    "max_per = 0\n",
    "for i in range(df.shape[0]-1):\n",
    "    s = abs(int(df['t'][i])-int(df['t'][i+1]))\n",
    "    #print(s)\n",
    "    if s > max_per:\n",
    "        max_per = s\n",
    "        day = df['Day'][i]\n",
    "day"
   ]
  },
  {
   "cell_type": "code",
   "execution_count": 248,
   "metadata": {},
   "outputs": [
    {
     "name": "stdout",
     "output_type": "stream",
     "text": [
      "2014-05-26 00:00:00\n"
     ]
    }
   ],
   "source": [
    "#2 вариант без цикла\n",
    "df2 = df.copy()\n",
    "df2['t2'] = df2.t.shift(-1)\n",
    "df2.loc[3284, 't2'] = df2.iloc[0]['t']\n",
    "df2['diff'] = abs(df2['t']-df2['t2']) \n",
    "#print(df2.head(1103))\n",
    "df2 = df2.sort_values(by='diff',ascending=False)\n",
    "max_per = df2.iloc[0,0]\n",
    "print(max_per)"
   ]
  },
  {
   "cell_type": "markdown",
   "metadata": {},
   "source": [
    "**5.** Постройте график среднегодовых температур (по оси $x$ - год, по оси $y$ - средняя температура в этот год)."
   ]
  },
  {
   "cell_type": "code",
   "execution_count": 206,
   "metadata": {},
   "outputs": [
    {
     "data": {
      "text/plain": [
       "<AxesSubplot:>"
      ]
     },
     "execution_count": 206,
     "metadata": {},
     "output_type": "execute_result"
    },
    {
     "data": {
      "image/png": "[encoded data removed]",
      "text/plain": [
       "<Figure size 432x288 with 1 Axes>"
      ]
     },
     "metadata": {
      "needs_background": "light"
     },
     "output_type": "display_data"
    }
   ],
   "source": [
    "# ваш код\n",
    "list_t = []\n",
    "for i in range(2008, 2017):\n",
    "    s = pd.Series(df[df['Day'].dt.year == i]['t'].sum())\n",
    "    list_t.append(int(s))\n",
    "list_year = np.arange(2008,2017)\n",
    "#print(list_t)\n",
    "pd.DataFrame(list_t, list_year).plot()"
   ]
  },
  {
   "cell_type": "code",
   "execution_count": 247,
   "metadata": {},
   "outputs": [
    {
     "data": {
      "image/png": "[encoded data removed]",
      "text/plain": [
       "<Figure size 432x288 with 1 Axes>"
      ]
     },
     "metadata": {
      "needs_background": "light"
     },
     "output_type": "display_data"
    }
   ],
   "source": [
    "#2 вариант без цикла\n",
    "s = df.groupby(df['Day'].dt.year).sum().plot()\n",
    "\n"
   ]
  },
  {
   "cell_type": "code",
   "execution_count": null,
   "metadata": {},
   "outputs": [],
   "source": []
  }
 ],
 "metadata": {
  "kernelspec": {
   "display_name": "Python 3",
   "language": "python",
   "name": "python3"
  },
  "language_info": {
   "codemirror_mode": {
    "name": "ipython",
    "version": 3
   },
   "file_extension": ".py",
   "mimetype": "text/x-python",
   "name": "python",
   "nbconvert_exporter": "python",
   "pygments_lexer": "ipython3",
   "version": "3.8.5"
  }
 },
 "nbformat": 4,
 "nbformat_minor": 4
}
