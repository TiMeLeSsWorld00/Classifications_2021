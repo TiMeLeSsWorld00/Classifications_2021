{
 "cells": [
  {
   "cell_type": "markdown",
   "metadata": {},
   "source": [
    "# Задание 1\n",
    "\n",
    "[Свертка списка](https://ru.wikipedia.org/wiki/%D0%A1%D0%B2%D1%91%D1%80%D1%82%D0%BA%D0%B0_%D1%81%D0%BF%D0%B8%D1%81%D0%BA%D0%B0) -  это обобщенная операция над списком, c помощью которой можно преобразовать список в единое значение. Например, рассмотрим реализации свертки слева и свертки справа (левоассоциативную свертку и правоассоциативную свертку):"
   ]
  },
  {
   "cell_type": "code",
   "execution_count": 2,
   "metadata": {},
   "outputs": [],
   "source": [
    "def foldl(f, x0, lst):\n",
    "    if not lst:\n",
    "        return x0\n",
    "    return foldl(f, f(x0, lst[0]), lst[1:])\n",
    "\n",
    "def foldr(f, x0, lst):\n",
    "    if not lst:\n",
    "        return x0\n",
    "    return f(lst[0], foldr(f, x0, lst[1:]))"
   ]
  },
  {
   "cell_type": "code",
   "execution_count": 3,
   "metadata": {},
   "outputs": [
    {
     "data": {
      "text/plain": [
       "6"
      ]
     },
     "execution_count": 3,
     "metadata": {},
     "output_type": "execute_result"
    }
   ],
   "source": [
    "#сумма\n",
    "foldl(lambda x, y: x + y, 0, [1, 2, 3])"
   ]
  },
  {
   "cell_type": "code",
   "execution_count": 3,
   "metadata": {},
   "outputs": [
    {
     "data": {
      "text/plain": [
       "6"
      ]
     },
     "execution_count": 3,
     "metadata": {},
     "output_type": "execute_result"
    }
   ],
   "source": [
    "#сумма\n",
    "foldr(lambda x, y: x + y, 0, [1, 2, 3])"
   ]
  },
  {
   "cell_type": "code",
   "execution_count": 4,
   "metadata": {},
   "outputs": [
    {
     "data": {
      "text/plain": [
       "'123'"
      ]
     },
     "execution_count": 4,
     "metadata": {},
     "output_type": "execute_result"
    }
   ],
   "source": [
    "#конкатенация\n",
    "foldl(lambda x, y: '{}{}'.format(x, y), '', [1, 2, 3])"
   ]
  },
  {
   "cell_type": "code",
   "execution_count": 4,
   "metadata": {},
   "outputs": [
    {
     "data": {
      "text/plain": [
       "'123'"
      ]
     },
     "execution_count": 4,
     "metadata": {},
     "output_type": "execute_result"
    }
   ],
   "source": [
    "#конкатенация\n",
    "foldr(lambda x, y: '{}{}'.format(x, y), '', [1, 2, 3])"
   ]
  },
  {
   "cell_type": "code",
   "execution_count": 5,
   "metadata": {},
   "outputs": [
    {
     "data": {
      "text/plain": [
       "(0.16666666666666666, 1.5)"
      ]
     },
     "execution_count": 5,
     "metadata": {},
     "output_type": "execute_result"
    }
   ],
   "source": [
    "f = lambda x, y: x / y\n",
    "foldl(f, 1, [1, 2, 3]), \\\n",
    "foldr(f, 1, [1, 2, 3])"
   ]
  },
  {
   "cell_type": "markdown",
   "metadata": {},
   "source": [
    "Задача: реализовать foldl через foldr и наоборот. Вместо многоточий нужно вставить выражения, которые бы привели к нужному результату. Модифицировать сам список нельзя. "
   ]
  },
  {
   "cell_type": "code",
   "execution_count": 6,
   "metadata": {},
   "outputs": [],
   "source": [
    "def foldl2(f, x0, lst):\n",
    "    return foldr(..., ..., lst)(...)"
   ]
  },
  {
   "cell_type": "code",
   "execution_count": 7,
   "metadata": {
    "collapsed": true,
    "jupyter": {
     "outputs_hidden": true
    }
   },
   "outputs": [],
   "source": [
    "def foldr2(f, x0, lst):\n",
    "    return foldl(..., ..., lst)(...)"
   ]
  },
  {
   "cell_type": "markdown",
   "metadata": {},
   "source": [
    "# Задание 2\n",
    "\n",
    "нужно написать функцию, которая принимает две строки и проверяет, входит ли хотя бы одна перестановка второй строки в первую. Например:\n",
    "\n",
    "> a = 'abcrotm'\n",
    "> \n",
    "> b = 'tro'\n",
    "\n",
    "функция def check_inv(a, b) вернет True, так как 'rot' содержится в 'abcrotm'. Нужно подумать как можно более оптимальный алгоритм и оценить его сложность. "
   ]
  },
  {
   "cell_type": "code",
   "execution_count": 227,
   "metadata": {},
   "outputs": [
    {
     "data": {
      "text/plain": [
       "False"
      ]
     },
     "execution_count": 227,
     "metadata": {},
     "output_type": "execute_result"
    }
   ],
   "source": [
    "from itertools import permutations\n",
    "def check_inv(a:str, b:str):\n",
    "    for p in permutations(b):\n",
    "        perms = ''.join(p)\n",
    "        if perms in a:\n",
    "            return True\n",
    "        \n",
    "    return False\n",
    "check_inv('qqqqq', 'uq')"
   ]
  },
  {
   "cell_type": "markdown",
   "metadata": {},
   "source": [
    "# Задание 3\n",
    "\n",
    "Реализовать бинарное дерево (класс Tree), в нём методы __repr__, __str__, __iter__ (итерация только по листьям)."
   ]
  },
  {
   "cell_type": "code",
   "execution_count": 20,
   "metadata": {},
   "outputs": [
    {
     "data": {
      "text/plain": [
       "True"
      ]
     },
     "execution_count": 20,
     "metadata": {},
     "output_type": "execute_result"
    }
   ],
   "source": [
    "class Tree:\n",
    "    def __init__(self, value=None, left=None, right=None):\n",
    "        self.left = left\n",
    "        self.right = right\n",
    "        self.value = value\n",
    "        \n",
    "    def __iter__(self):\n",
    "        if self:\n",
    "            if self.left != None:\n",
    "                for elem in self.left:\n",
    "                    yield elem\n",
    "            else:\n",
    "                yield self.value\n",
    "            if self.right != None:\n",
    "                for elem in self.right:\n",
    "                    yield elem\n",
    "    \n",
    "    def __str__(self):\n",
    "        return str(self.value)\n",
    "        pass\n",
    "    \n",
    "    def __repr__(self):\n",
    "        return str(self.value)\n",
    "        pass\n",
    "    \n",
    "tree = Tree(0, Tree(1, Tree(3), Tree(4)), Tree(2))\n",
    "\n",
    "list(tree) == [3, 4, 2]"
   ]
  },
  {
   "cell_type": "markdown",
   "metadata": {},
   "source": [
    "# Задание 4\n",
    "\n",
    "Реализовать простейший калькулятор математических выражений:\n",
    "- только целые числа\n",
    "- **+**, **\\-**, **\\***, **\\**\n",
    "- скобки\n",
    "\n",
    "**Можно использовать регулярные выражения**"
   ]
  },
  {
   "cell_type": "code",
   "execution_count": 226,
   "metadata": {},
   "outputs": [
    {
     "data": {
      "text/plain": [
       "True"
      ]
     },
     "execution_count": 226,
     "metadata": {},
     "output_type": "execute_result"
    }
   ],
   "source": [
    "def is_separator(letter:str):\n",
    "    if letter == ' ':\n",
    "        return True\n",
    "    return False\n",
    "\n",
    "def is_oper(letter:str):\n",
    "    if letter in ['+', '-', '*', '/', '(', ')']:\n",
    "        return True\n",
    "    return False\n",
    "\n",
    "def get_proiritet(letter:str):\n",
    "    if letter == '(':\n",
    "        return 0\n",
    "    if letter == ')':\n",
    "        return 1\n",
    "    if letter == '+':\n",
    "        return 2\n",
    "    if letter == '-':\n",
    "        return 3\n",
    "    if letter == '*':\n",
    "        return 4\n",
    "    if letter == '/':\n",
    "        return 5\n",
    "\n",
    "\n",
    "def count(line:str):\n",
    "    result = 0\n",
    "    temp = []\n",
    "    i = 0\n",
    "    while i < len(line):\n",
    "        if line[i].isdigit():\n",
    "            strokaa = ''\n",
    "            while (is_oper(line[i]) == False) & (is_separator(line[i]) == False):\n",
    "                strokaa += line[i]\n",
    "                i += 1\n",
    "                if i == len(line):\n",
    "                    break\n",
    "            temp.append(strokaa)\n",
    "            i -= 1\n",
    "        if is_oper(line[i]):\n",
    "            a = int(temp.pop(-1))\n",
    "            b = int(temp.pop(-1))\n",
    "            if line[i] == '+':\n",
    "                result = b + a\n",
    "            if line[i] == '-':\n",
    "                result = b - a\n",
    "            if line[i] == '*':\n",
    "                result = b * a\n",
    "            if line[i] == '/':\n",
    "                result = b / a\n",
    "            temp.append(result)\n",
    "        i += 1\n",
    "                \n",
    "    return temp[-1]\n",
    "\n",
    "def get_line(line:str):\n",
    "    stroka = ''\n",
    "    stek = []\n",
    "    i = 0\n",
    "    while i < len(line):\n",
    "        \n",
    "        if line[i].isdigit():\n",
    "            while (is_oper(line[i]) == False) & (is_separator(line[i]) == False):\n",
    "                stroka += line[i]\n",
    "                i += 1\n",
    "                if i == len(line):\n",
    "                    break\n",
    "            stroka+=' '\n",
    "            i -= 1\n",
    "        if is_oper(line[i]):\n",
    "            if line[i] == '(':\n",
    "                stek += line[i]\n",
    "            elif line[i] == ')':\n",
    "                s = stek.pop(-1)\n",
    "                while s != '(':\n",
    "                    stroka += str(s) + ' '\n",
    "                    s = stek.pop(-1)\n",
    "            else:\n",
    "                if len(stek) > 0:\n",
    "                    if get_proiritet(line[i]) <= get_proiritet(stek[-1]):\n",
    "                        stroka += str(stek.pop(-1)) + ' '\n",
    "                stek.append(line[i])\n",
    "        i += 1\n",
    "    while len(stek) > 0:\n",
    "        stroka += stek.pop(-1) + ' '\n",
    "    return stroka\n",
    "                    \n",
    "def calc(expr:str):\n",
    "    out = get_line(expr)\n",
    "    result = count(out)\n",
    "    return result\n",
    "\n",
    "\n",
    "calc('2 * (15 - 3 * 4) - 2') == 4"
   ]
  },
  {
   "cell_type": "code",
   "execution_count": null,
   "metadata": {},
   "outputs": [],
   "source": []
  },
  {
   "cell_type": "code",
   "execution_count": null,
   "metadata": {},
   "outputs": [],
   "source": []
  },
  {
   "cell_type": "code",
   "execution_count": null,
   "metadata": {},
   "outputs": [],
   "source": []
  },
  {
   "cell_type": "code",
   "execution_count": null,
   "metadata": {},
   "outputs": [],
   "source": []
  },
  {
   "cell_type": "code",
   "execution_count": null,
   "metadata": {},
   "outputs": [],
   "source": []
  },
  {
   "cell_type": "code",
   "execution_count": null,
   "metadata": {},
   "outputs": [],
   "source": []
  },
  {
   "cell_type": "code",
   "execution_count": null,
   "metadata": {},
   "outputs": [],
   "source": []
  }
 ],
 "metadata": {
  "kernelspec": {
   "display_name": "Python 3",
   "language": "python",
   "name": "python3"
  },
  "language_info": {
   "codemirror_mode": {
    "name": "ipython",
    "version": 3
   },
   "file_extension": ".py",
   "mimetype": "text/x-python",
   "name": "python",
   "nbconvert_exporter": "python",
   "pygments_lexer": "ipython3",
   "version": "3.8.5"
  }
 },
 "nbformat": 4,
 "nbformat_minor": 4
}
